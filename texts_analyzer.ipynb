{
  "nbformat": 4,
  "nbformat_minor": 0,
  "metadata": {
    "colab": {
      "provenance": [],
      "collapsed_sections": []
    },
    "kernelspec": {
      "name": "python3",
      "display_name": "Python 3"
    },
    "language_info": {
      "name": "python"
    }
  },
  "cells": [
    {
      "cell_type": "code",
      "source": [
        "pip install matplotlib-venn"
      ],
      "metadata": {
        "colab": {
          "base_uri": "https://localhost:8080/"
        },
        "id": "pw1NL-YKGA8k",
        "outputId": "42723379-2606-4056-c661-ce9eaab15062"
      },
      "execution_count": null,
      "outputs": [
        {
          "output_type": "stream",
          "name": "stdout",
          "text": [
            "Requirement already satisfied: matplotlib-venn in /usr/local/lib/python3.7/dist-packages (0.11.6)\n",
            "Requirement already satisfied: scipy in /usr/local/lib/python3.7/dist-packages (from matplotlib-venn) (1.4.1)\n",
            "Requirement already satisfied: numpy in /usr/local/lib/python3.7/dist-packages (from matplotlib-venn) (1.21.5)\n",
            "Requirement already satisfied: matplotlib in /usr/local/lib/python3.7/dist-packages (from matplotlib-venn) (3.2.2)\n",
            "Requirement already satisfied: pyparsing!=2.0.4,!=2.1.2,!=2.1.6,>=2.0.1 in /usr/local/lib/python3.7/dist-packages (from matplotlib->matplotlib-venn) (3.0.7)\n",
            "Requirement already satisfied: cycler>=0.10 in /usr/local/lib/python3.7/dist-packages (from matplotlib->matplotlib-venn) (0.11.0)\n",
            "Requirement already satisfied: python-dateutil>=2.1 in /usr/local/lib/python3.7/dist-packages (from matplotlib->matplotlib-venn) (2.8.2)\n",
            "Requirement already satisfied: kiwisolver>=1.0.1 in /usr/local/lib/python3.7/dist-packages (from matplotlib->matplotlib-venn) (1.4.0)\n",
            "Requirement already satisfied: typing-extensions in /usr/local/lib/python3.7/dist-packages (from kiwisolver>=1.0.1->matplotlib->matplotlib-venn) (3.10.0.2)\n",
            "Requirement already satisfied: six>=1.5 in /usr/local/lib/python3.7/dist-packages (from python-dateutil>=2.1->matplotlib->matplotlib-venn) (1.15.0)\n"
          ]
        }
      ]
    },
    {
      "cell_type": "code",
      "source": [
        "from matplotlib_venn import venn2\n",
        "from matplotlib_venn import venn3\n",
        "from matplotlib import pyplot as plt\n",
        "from matplotlib_venn import venn2_circles\n",
        "from matplotlib_venn import venn3_circles"
      ],
      "metadata": {
        "id": "SFW-b5AfGHTb"
      },
      "execution_count": null,
      "outputs": []
    },
    {
      "cell_type": "code",
      "source": [
        "from math import sqrt\n",
        "from math import pow"
      ],
      "metadata": {
        "id": "vWgTHLBqsGc1"
      },
      "execution_count": null,
      "outputs": []
    },
    {
      "cell_type": "code",
      "source": [
        "import time\n",
        "from IPython.display import display, clear_output"
      ],
      "metadata": {
        "id": "y7atHoWsxFyz"
      },
      "execution_count": null,
      "outputs": []
    },
    {
      "cell_type": "code",
      "source": [
        "set1 = set(['A', 'B', 'C', 'D'])\n",
        "set2 = set(['B', 'C', 'D', 'E'])\n",
        "set3 = set(['C', 'D',' E', 'F', 'G'])\n",
        "\n",
        "venn3([set1, set2, set3], ('Set1', 'Set2', 'Set3'))\n",
        "plt.show()"
      ],
      "metadata": {
        "colab": {
          "base_uri": "https://localhost:8080/",
          "height": 253
        },
        "id": "Y37qDXrsGcl5",
        "outputId": "cd37863a-fdd4-4a01-e63b-e606542d68bf"
      },
      "execution_count": null,
      "outputs": [
        {
          "output_type": "display_data",
          "data": {
            "text/plain": [
              "<Figure size 432x288 with 1 Axes>"
            ],
            "image/png": "[encoded data removed]"
          },
          "metadata": {}
        }
      ]
    },
    {
      "cell_type": "code",
      "source": [
        "def setup(list):\n",
        "  setq = set([])\n",
        "  for e in list:\n",
        "    setq.add(e[0])\n",
        "  return setq"
      ],
      "metadata": {
        "id": "7UkH1ddPHHF0"
      },
      "execution_count": null,
      "outputs": []
    },
    {
      "cell_type": "code",
      "source": [
        "def euler(l1, l2, name1, name2):\n",
        "  set1 = setup(l1)\n",
        "  set2 = setup(l2)\n",
        "  venn2([set1, set2], (name1, name2))\n",
        "  plt.show()"
      ],
      "metadata": {
        "id": "BEToNotHIUxN"
      },
      "execution_count": null,
      "outputs": []
    },
    {
      "cell_type": "code",
      "source": [
        "def euler3(l1, l2, l3, name1, name2, name3):\n",
        "  set1 = setup(l1)\n",
        "  set2 = setup(l2)\n",
        "  set3 = setup(l3)\n",
        "  venn3([set1, set2, set3], (name1, name2, name3))\n",
        "  plt.show()"
      ],
      "metadata": {
        "id": "JuL-OFtpPtGE"
      },
      "execution_count": null,
      "outputs": []
    },
    {
      "cell_type": "code",
      "source": [
        "def common(l1, l2, name1, name2):\n",
        "  l1.sort(reverse = True, key=lambda x: x[1])\n",
        "  l2.sort(reverse = True, key=lambda x: x[1])\n",
        "  com = []\n",
        "  for e in l1:\n",
        "    for r in l2:\n",
        "      if e[0] == r[0]:\n",
        "        #print('\"',e[0],'\"', \"used\", e[1], \"times by\", name1, \"and\", r[1], \"by\", name2)\n",
        "        com.append([e[0], e[1] + r[1], r[1]])\n",
        "  com.sort(reverse = True, key=lambda x: x[1])\n",
        "  i = 0\n",
        "  for e in com:\n",
        "    i += 1\n",
        "    print(i,') ', '\"', e[0],'\": ', e[1]-e[2],\"; \", e[2], sep = '')\n"
      ],
      "metadata": {
        "id": "eavadi1QKMW_"
      },
      "execution_count": null,
      "outputs": []
    },
    {
      "cell_type": "code",
      "source": [
        "def common3(l1, l2, l3, name1, name2, name3):\n",
        "  l1.sort(reverse = True, key=lambda x: x[1])\n",
        "  l2.sort(reverse = True, key=lambda x: x[1])\n",
        "  l3.sort(reverse = True, key=lambda x: x[1])\n",
        "  com = []\n",
        "  for e in l1:\n",
        "    for r in l2:\n",
        "      for t in l3:\n",
        "        if e[0] == r[0] == t[0]:\n",
        "          #print('\"',e[0],'\"', \"used\", e[1], \"times by\", name1, \"and\", r[1], \"by\", name2)\n",
        "          com.append([e[0], e[1] + r[1] + t[1], r[1], t[1]])\n",
        "  com.sort(reverse = True, key=lambda x: x[1])\n",
        "  i = 0\n",
        "  for e in com:\n",
        "    i += 1\n",
        "    print(i,') ', '\"', e[0],'\": ', e[1]-e[2]-e[3],\"; \", e[2],\"; \", e[3], sep = '')\n"
      ],
      "metadata": {
        "id": "WOxJuyiJP9Gq"
      },
      "execution_count": null,
      "outputs": []
    },
    {
      "cell_type": "code",
      "source": [
        "def divider(filename):\n",
        "  with open(filename) as f:\n",
        "    contents = f.readlines()\n",
        "  cont = \" \".join(map(str, contents))\n",
        "  x = cont.split()\n",
        "  return x"
      ],
      "metadata": {
        "id": "KJoUfuz7QqTZ"
      },
      "execution_count": null,
      "outputs": []
    },
    {
      "cell_type": "code",
      "source": [
        "def filter(list):\n",
        "  sss = divider('sss.txt')\n",
        "  n = len(list)\n",
        "  for e in sss:\n",
        "    i = 0\n",
        "    k = len(list)\n",
        "    while i < k:\n",
        "      if e == list[i][0]:\n",
        "        del list[i]\n",
        "        break\n",
        "      i += 1\n",
        "  print(n - len(list), \"particles deleted\")\n",
        "  return list"
      ],
      "metadata": {
        "id": "dIL4i1jw3UiZ"
      },
      "execution_count": null,
      "outputs": []
    },
    {
      "cell_type": "code",
      "source": [
        "def punc(list):\n",
        "  disallowed_characters = \".,|?/\\()_!][:\"\n",
        "  for i in range(len(list)):\n",
        "    for character in disallowed_characters:\n",
        "\t    list[i] = list[i].replace(character, \"\")\n",
        "  return list\n"
      ],
      "metadata": {
        "id": "hi3CVJPRCHpk"
      },
      "execution_count": null,
      "outputs": []
    },
    {
      "cell_type": "code",
      "source": [
        "def regstr(list):\n",
        "  for i in range(len(list)):\n",
        "    list[i] = list[i].lower()\n",
        "    \n",
        "  return list\n",
        "\n"
      ],
      "metadata": {
        "id": "-UWTwpQ1cFBT"
      },
      "execution_count": null,
      "outputs": []
    },
    {
      "cell_type": "code",
      "source": [
        "def counter(div):\n",
        "  words = [[div[0], 0]]\n",
        "  words\n",
        "  for e in div:\n",
        "    flag = 0\n",
        "    for w in words:\n",
        "      if w[0] == e:\n",
        "        w[1] += 1\n",
        "        flag = 1\n",
        "        break\n",
        "    if flag == 0:\n",
        "      words.append([e, 1])\n",
        "\n",
        "  return words"
      ],
      "metadata": {
        "id": "9UDx_uEUTBRm"
      },
      "execution_count": null,
      "outputs": []
    },
    {
      "cell_type": "code",
      "source": [
        "def countlive(words, new):\n",
        "  flag = 0\n",
        "  for w in words:\n",
        "    if w[0] == new:\n",
        "      w[1] += 1\n",
        "      flag = 1\n",
        "      break\n",
        "  if flag == 0:\n",
        "    words.append([new, 1])\n",
        "\n",
        "  return words\n",
        "\n"
      ],
      "metadata": {
        "id": "j_ktPSY_V6CH"
      },
      "execution_count": null,
      "outputs": []
    },
    {
      "cell_type": "code",
      "source": [
        "def screen(a):\n",
        "  a.sort(reverse = True, key=lambda x: x[1])\n",
        "  print(\"unique words:\", len(a))\n",
        "  i = 0\n",
        "  for e in a:\n",
        "    i += 1\n",
        "    if(i < 4990):\n",
        "      print(i,'): \"', e[0],'\" used ', e[1], \" times\", sep = '')\n",
        "      #print(e[0])"
      ],
      "metadata": {
        "id": "eL6mcLQjUTL2"
      },
      "execution_count": null,
      "outputs": []
    },
    {
      "cell_type": "code",
      "source": [
        "def ui(a, div, name = '...', flag = 0, p = 0.75):\n",
        "  allwords = len(div)\n",
        "  if flag == 0:\n",
        "    print('unique index of ', name, ': ', 10*len(a)/(allwords**p), sep = '')\n",
        "  else:\n",
        "    return 10*len(a)/(allwords**p)"
      ],
      "metadata": {
        "id": "HUIkruf4xikd"
      },
      "execution_count": null,
      "outputs": []
    },
    {
      "cell_type": "code",
      "source": [
        "def stats(filename):\n",
        "  div = divider(filename)\n",
        "  div = regstr(div)\n",
        "  div = punc(div)\n",
        "  \n",
        "  a = counter(div)\n",
        "  ui(a, div)\n",
        "  a = filter(a)\n",
        "  screen(a)\n",
        "  #return a"
      ],
      "metadata": {
        "id": "BDGP1K4YTsRo"
      },
      "execution_count": null,
      "outputs": []
    },
    {
      "cell_type": "code",
      "source": [
        "def two(filename1, filename2, name1, name2):\n",
        "  div1 = divider(filename1)\n",
        "  div1 = regstr(div1)\n",
        "  div1 = punc(div1)\n",
        "  a1 = counter(div1)\n",
        "  ui(a1, div1, name1)\n",
        "  a1 = filter(a1)\n",
        "  div2 = divider(filename2)\n",
        "  div2 = regstr(div2)\n",
        "  div2 = punc(div2)\n",
        "  a2 = counter(div2)\n",
        "  ui(a2, div2, name2)\n",
        "  a2 = filter(a2)\n",
        "  euler(a1, a2, name1, name2)\n",
        "  common(a1, a2, name1, name2)"
      ],
      "metadata": {
        "id": "CqWBF55oIxcp"
      },
      "execution_count": null,
      "outputs": []
    },
    {
      "cell_type": "code",
      "source": [
        "def three(filename1, filename2, filename3, name1, name2, name3):\n",
        "  div1 = divider(filename1)\n",
        "  div1 = regstr(div1)\n",
        "  div1 = punc(div1)\n",
        "  a1 = counter(div1)\n",
        "  ui(a1, div1, name1)\n",
        "  a1 = filter(a1)\n",
        "  div2 = divider(filename2)\n",
        "  div2 = regstr(div2)\n",
        "  div2 = punc(div2)\n",
        "  a2 = counter(div2)\n",
        "  ui(a2, div2, name2)\n",
        "  a2 = filter(a2)\n",
        "  div3 = divider(filename3)\n",
        "  div3 = regstr(div3)\n",
        "  div3 = punc(div3)\n",
        "  a3 = counter(div3)\n",
        "  ui(a3, div3, name3)\n",
        "  a3 = filter(a3)\n",
        "  euler3(a1, a2, a3, name1, name2, name3)\n",
        "  #common3(a1, a2, a3, name1, name2, name3)"
      ],
      "metadata": {
        "id": "KVIgT0i0Qg6V"
      },
      "execution_count": null,
      "outputs": []
    },
    {
      "cell_type": "code",
      "source": [
        "def indexplot2(div):\n",
        "  n = len(div)\n",
        "  print(n)\n",
        "  trig = '##########'\n",
        "  cols = ['r', 'g', 'b', 'y', 'm', 'c', 'black', 'tab:orange', 'tab:purple', 'tab:green', 'tab:pink', 'tab:olive', 'b', 'g', 'r', 'y', 'm', 'c', 'black', 'tab:orange', 'tab:purple']\n",
        "  pointer = 0\n",
        "  x = []\n",
        "  y = []\n",
        "  plt.ion()\n",
        "  #plt.axis([0, n, 0, 100])\n",
        "  fig = plt.figure()\n",
        "  ax = fig.add_subplot(1, 1, 1) \n",
        "  plt.ylabel('index')\n",
        "  plt.xlabel('words')\n",
        "  a = counter(div[:1])\n",
        "  for i in range(2, n):\n",
        "    #plt.clf()\n",
        "    if div[i] == trig:\n",
        "      pointer += 1\n",
        "    a = countlive(a, div[i])\n",
        "    x.append(i)\n",
        "    m = ui(a, div[:i], flag = 1)\n",
        "    y.append(m) \n",
        "    ax.set_xlim(0, i)    \n",
        "    ax.cla()\n",
        "    ax.plot(x, y, cols[pointer], marker='o', markersize=12)\n",
        "    clear_output(wait = True)\n",
        "    display(fig)\n",
        "    print(i,'/', n, cols[pointer], sep = '')\n",
        "    #plt.pause(0.01)\n",
        "    \n",
        "    #plt.plot(x, y, 'ro')\n",
        "  plt.show()"
      ],
      "metadata": {
        "id": "GAMho3eY1qx8"
      },
      "execution_count": null,
      "outputs": []
    },
    {
      "cell_type": "code",
      "source": [
        "import sys\n",
        "def indexplot1(div):\n",
        "  n = len(div)\n",
        "  print(n)\n",
        "  trig = '##########'\n",
        "  cols = ['r', 'g', 'b', 'y', 'm', 'c', 'black', 'tab:orange', 'tab:purple', 'tab:green', 'tab:pink', 'tab:olive', 'b', 'g', 'r', 'y', 'm', 'c', 'black', 'tab:orange', 'tab:purple']\n",
        "  colss = ['#1f77b4', '#ff7f0e', '#2ca02c', '#d62728', '#9467bd', '#8c564b', '#e377c2', '#7f7f7f', '#bcbd22', '#17becf', '#1f77b4', '#ff7f0e', '#2ca02c', '#d62728', '#9467bd', '#8c564b', '#e377c2', '#7f7f7f', '#bcbd22', '#17becf']\n",
        "  pointer = 0\n",
        "  x = []\n",
        "  y = []\n",
        "  a = counter(div[:1])\n",
        "  plt.ylabel('index')\n",
        "  plt.xlabel('words')\n",
        "  for i in range(2, n):\n",
        "    print(i,'/', n, cols[pointer], sep = '')\n",
        "    if div[i] == trig:\n",
        "      pointer += 1\n",
        "      print('####################################################')\n",
        "    a = countlive(a, div[i])\n",
        "    x.append(i)\n",
        "    m = ui(a, div[:i], flag = 1)\n",
        "    y.append(m)\n",
        "    clear_output(wait = False)\n",
        "    plt.scatter(i, m, c = colss[pointer])\n",
        "  plt.show()\n",
        "  plt.plot(x, y, cols[pointer])\n",
        "  plt.show()"
      ],
      "metadata": {
        "id": "EYSIQdiRAvts"
      },
      "execution_count": null,
      "outputs": []
    },
    {
      "cell_type": "code",
      "source": [
        "def indexplot(div):\n",
        "  n = len(div)\n",
        "  print(n)\n",
        " \n",
        "  x = []\n",
        "  y = []\n",
        "  a = counter(div[:1])\n",
        "  plt.ylabel('index')\n",
        "  plt.xlabel('words')\n",
        "  for i in range(2, n):\n",
        "    m = []\n",
        "    print(i,'/', n, sep = '')\n",
        "    a = countlive(a, div[i])\n",
        "    x.append(i)\n",
        "    for j in range(6):\n",
        "      m.append(ui(a, div[:i], flag = 1, p = (0.73 + j/20)))\n",
        "    y.append(m)\n",
        "    clear_output(wait = False)\n",
        "  y = np.array(y)\n",
        "  y = np.transpose(y)\n",
        "  x = np.array(x)\n",
        "  plt.plot(x, y[0], 'r')\n",
        "  plt.plot(x, y[1], 'g')\n",
        "  plt.plot(x, y[2], 'b')\n",
        "  plt.plot(x, y[3], 'c')\n",
        "  plt.plot(x, y[4], 'm')\n",
        "  plt.plot(x, y[5], 'y')\n",
        "  plt.show()"
      ],
      "metadata": {
        "id": "_qM5DexXrdnw"
      },
      "execution_count": null,
      "outputs": []
    },
    {
      "cell_type": "code",
      "source": [
        "y = [[1, 2], [3, 4], [5, 6]]\n",
        "y = np.array(y)\n",
        "y = np.transpose(y)\n",
        "y"
      ],
      "metadata": {
        "colab": {
          "base_uri": "https://localhost:8080/"
        },
        "id": "wH2UpeaGPA4i",
        "outputId": "14bb6588-3797-4716-bff6-8df5d7e06ac5"
      },
      "execution_count": null,
      "outputs": [
        {
          "output_type": "execute_result",
          "data": {
            "text/plain": [
              "array([[1, 3, 5],\n",
              "       [2, 4, 6]])"
            ]
          },
          "metadata": {},
          "execution_count": 99
        }
      ]
    },
    {
      "cell_type": "code",
      "source": [
        "import numpy as np\n",
        "plt.ion()\n",
        "fig = plt.scatter(1, 2, c ='#1f77b4')\n",
        "\n",
        "fig = plt.scatter([4, 5, 6], [16, 25, 36], c = '#ff7f0e')\n",
        "plt.show()\n",
        "\n"
      ],
      "metadata": {
        "colab": {
          "base_uri": "https://localhost:8080/",
          "height": 265
        },
        "id": "eE3GnyvVh7Ps",
        "outputId": "2b291e36-7d21-4d81-9a2c-24acedcad218"
      },
      "execution_count": null,
      "outputs": [
        {
          "output_type": "display_data",
          "data": {
            "text/plain": [
              "<Figure size 432x288 with 1 Axes>"
            ],
            "image/png": "[encoded data removed]"
          },
          "metadata": {
            "needs_background": "light"
          }
        }
      ]
    },
    {
      "cell_type": "code",
      "source": [
        "def index(filename):\n",
        "  div = divider(filename)\n",
        "  div = regstr(div)\n",
        "  div = punc(div)\n",
        "  indexplot(div)"
      ],
      "metadata": {
        "id": "0y9X_mi5326B"
      },
      "execution_count": null,
      "outputs": []
    },
    {
      "cell_type": "code",
      "source": [
        "index('all.txt')\n",
        "print(\"1)какие-то стихи\\n2)scrapyard\\n3)lake of deception\\n4)garage\\n5)hot mi\\n6)метабаркаролла\\n7)in line\\n8)in line 2\\n9)гост-protest\\n10)RDM+last month\\n11)sonic v tumane\\n12)КЮП2008\\n13)никогда\\n14)нью скул\\n15)невышедшие треки\\n16)куплеты отечественного\")"
      ],
      "metadata": {
        "colab": {
          "base_uri": "https://localhost:8080/",
          "height": 807
        },
        "id": "QE8f0l204E-p",
        "outputId": "08f5b8d7-ae4b-4ba5-980a-ff7dbbcffdb5"
      },
      "execution_count": null,
      "outputs": [
        {
          "output_type": "display_data",
          "data": {
            "text/plain": [
              "<Figure size 432x288 with 1 Axes>"
            ],
            "image/png": "[encoded data removed]"
          },
          "metadata": {
            "needs_background": "light"
          }
        },
        {
          "output_type": "display_data",
          "data": {
            "text/plain": [
              "<Figure size 432x288 with 1 Axes>"
            ],
            "image/png": "[encoded data removed]"
          },
          "metadata": {
            "needs_background": "light"
          }
        },
        {
          "output_type": "stream",
          "name": "stdout",
          "text": [
            "1)какие-то стихи\n",
            "2)scrapyard\n",
            "3)lake of deception\n",
            "4)garage\n",
            "5)hot mi\n",
            "6)метабаркаролла\n",
            "7)in line\n",
            "8)in line 2\n",
            "9)гост-protest\n",
            "10)RDM+last month\n",
            "11)sonic v tumane\n",
            "12)КЮП2008\n",
            "13)никогда\n",
            "14)нью скул\n",
            "15)невышедшие треки\n",
            "16)куплеты отечественного\n"
          ]
        }
      ]
    },
    {
      "cell_type": "code",
      "source": [
        "index('all.txt')"
      ],
      "metadata": {
        "colab": {
          "base_uri": "https://localhost:8080/",
          "height": 279
        },
        "id": "wdPYWHGLaEYb",
        "outputId": "39c36561-ed72-4bbf-d60d-84c0d9a08a6b"
      },
      "execution_count": null,
      "outputs": [
        {
          "output_type": "display_data",
          "data": {
            "text/plain": [
              "<Figure size 432x288 with 1 Axes>"
            ],
            "image/png": "[encoded data removed]"
          },
          "metadata": {
            "needs_background": "light"
          }
        }
      ]
    },
    {
      "cell_type": "code",
      "source": [
        "import matplotlib\n",
        "a = []\n",
        "b = []\n",
        "for i in range(100):\n",
        "  a.append(i)\n",
        "  b.append(i**2)\n",
        "  plt.scatter(a, b, c='red')\n",
        "  #plt.clf()\n",
        "  plt.show()\n",
        "def addPoint(scat, new_point, c='k'):\n",
        "    old_off = scat.get_offsets()\n",
        "    new_off = np.concatenate([old_off,np.array(new_point, ndmin=2)])\n",
        "    old_c = scat.get_facecolors()\n",
        "    new_c = np.concatenate([old_c, np.array(matplotlib.colors.to_rgba(c), ndmin=2)])\n",
        "\n",
        "    scat.set_offsets(new_off)\n",
        "    scat.set_facecolors(new_c)\n",
        "\n",
        "    scat.axes.figure.canvas.draw_idle()"
      ],
      "metadata": {
        "id": "eH4apdkT_iDn"
      },
      "execution_count": null,
      "outputs": []
    },
    {
      "cell_type": "code",
      "source": [
        "two('sonic.txt', 'pst.txt', 'sonic v tumane', 'саша пст')"
      ],
      "metadata": {
        "id": "e6hxrhluJ4sV"
      },
      "execution_count": null,
      "outputs": []
    },
    {
      "cell_type": "code",
      "source": [
        "two('registr.txt', 'grtsq.txt', 'осадок', 'пост-grotesque')"
      ],
      "metadata": {
        "id": "DTw33lt9PIIn"
      },
      "execution_count": null,
      "outputs": []
    },
    {
      "cell_type": "code",
      "source": [
        "three('registr.txt', 'okn.txt', 'grtsq.txt', 'Осадок', 'nuthin','пост-grotesque')"
      ],
      "metadata": {
        "id": "aXvrp-_eQ5UV"
      },
      "execution_count": null,
      "outputs": []
    },
    {
      "cell_type": "code",
      "source": [
        "stats('1.txt')"
      ],
      "metadata": {
        "id": "rTeG5p4fU55F"
      },
      "execution_count": null,
      "outputs": []
    },
    {
      "cell_type": "code",
      "source": [
        "stats('registr.txt')"
      ],
      "metadata": {
        "id": "Hbg73lnAbIgW"
      },
      "execution_count": null,
      "outputs": []
    },
    {
      "cell_type": "code",
      "source": [
        "stats('okn.txt')"
      ],
      "metadata": {
        "id": "BMIkKutbhmab"
      },
      "execution_count": null,
      "outputs": []
    },
    {
      "cell_type": "code",
      "source": [
        "stats('grtsq.txt')"
      ],
      "metadata": {
        "id": "v9kN2M7iouer"
      },
      "execution_count": null,
      "outputs": []
    },
    {
      "cell_type": "code",
      "source": [
        "stats('sonic.txt')"
      ],
      "metadata": {
        "id": "HjhDDo_RyE-X"
      },
      "execution_count": null,
      "outputs": []
    },
    {
      "cell_type": "code",
      "source": [
        "stats('pst.txt')"
      ],
      "metadata": {
        "id": "zDKa7cxEzpD8"
      },
      "execution_count": null,
      "outputs": []
    },
    {
      "cell_type": "code",
      "source": [
        "stats('all.txt')"
      ],
      "metadata": {
        "id": "TeRaNINJ38J8"
      },
      "execution_count": null,
      "outputs": []
    },
    {
      "cell_type": "code",
      "source": [
        "stats('kpss.txt')"
      ],
      "metadata": {
        "id": "R1HLvx2jALLW"
      },
      "execution_count": null,
      "outputs": []
    },
    {
      "cell_type": "code",
      "source": [
        "two('all.txt', 'kpss.txt', 'я', 'слава кпсс')"
      ],
      "metadata": {
        "id": "MnKLKdT0osPd"
      },
      "execution_count": null,
      "outputs": []
    },
    {
      "cell_type": "code",
      "source": [
        "three('all.txt', 'kpss.txt', 'grtsq.txt', 'я', 'слава','grotesque')"
      ],
      "metadata": {
        "id": "UIkd756aqA92"
      },
      "execution_count": null,
      "outputs": []
    }
  ]
}